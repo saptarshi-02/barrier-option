{
 "cells": [
  {
   "cell_type": "markdown",
   "id": "49dbaaf3-0acd-459a-8dc8-e320cc132096",
   "metadata": {},
   "source": [
    "## Barrier Option Pricing\n",
    "It is an option whose payoff is conditional upon the underlying asset's price breaching a barrier level during the option's lifetime. the payoff depends on whether or not the underlying asset has reached/exceeded a predetermined price threshold. Barrier options are typically classified as one of the following:\n",
    "\n",
    "• Knock-out: option becomes worthless if the underlying asset’s price exceeds a certain threshold\n",
    "\n",
    "• Knock-in: option has no value until the underlying asset’s price reaches a certain threshold\n",
    "\n",
    "### Geometric Brownian Motion (GBM) Formula:\n",
    "\n",
    "GBM model for the price S_t of an asset at time  t  is given by:\n",
    "\n",
    "\n",
    "$$S_t = S_0 \\exp \\left( \\left( \\mu - \\frac{1}{2} \\sigma^2 \\right) t + \\sigma W_t \\right)$$\n",
    "\n",
    "\n",
    "### Final Price Formula:\n",
    "\n",
    "\n",
    "$$ S_t = S_0 \\cdot \\exp \\left( \\left( \\mu - \\frac{1}{2} \\sigma^2 \\right) \\cdot \\text{time\\_steps} + \\sigma \\cdot W_t \\right) $$\n",
    "\n",
    "where : \n",
    "\n",
    "\t•\t S_0 : initial price at t = 0\n",
    "\t•\t mu : drift (mean return) \n",
    "\t•\t sigma : volatility \n",
    "\t•\t W_t : Wiener process (also known as Brownian motion) at time  t \n",
    "\t•\t t : time (scaled appropriately)\n",
    "\n"
   ]
  },
  {
   "cell_type": "code",
   "execution_count": 3,
   "id": "de9705c1-0c70-4e6d-ba9c-7d113b40ec55",
   "metadata": {},
   "outputs": [],
   "source": [
    "import numpy as np\n",
    "import pandas as pd\n",
    "import matplotlib.pyplot as plt\n",
    "import yfinance as yf"
   ]
  },
  {
   "cell_type": "code",
   "execution_count": 5,
   "id": "7136679f-4242-4115-9197-23ce4e65029a",
   "metadata": {},
   "outputs": [],
   "source": [
    "def simulate_gbm(s_0, mu, sigma, n_sims, T, N, random_seed=None):\n",
    "    np.random.seed(random_seed)  # Set random seed for reproducibility\n",
    "    dt = T / N  # Time step size\n",
    "    time_steps = np.linspace(0, T, N)  # Time grid (length N)\n",
    "\n",
    "    # Create a 2D array of random variables (Wiener process increments)\n",
    "    W = np.random.normal(size=(n_sims, N)) * np.sqrt(dt)\n",
    "    \n",
    "    # Cumulative sum of random variables to get the Wiener process\n",
    "    W = np.cumsum(W, axis=1)\n",
    "\n",
    "    # Create a 2D array for time_steps, where each row is the same time grid\n",
    "    time_steps_2d = np.broadcast_to(time_steps, (n_sims, N))\n",
    "\n",
    "    # Ensure mu and sigma are scalars\n",
    "    mu = float(mu)  # Convert to scalar\n",
    "    sigma = float(sigma)  # Convert to scalar\n",
    "\n",
    "    # Debugging: Print shapes and types\n",
    "    print(f\"mu: {mu}, type: {type(mu)}\")\n",
    "    print(f\"sigma: {sigma}, type: {type(sigma)}\")\n",
    "    print(f\"time_steps_2d shape: {time_steps_2d.shape}\")\n",
    "    print(f\"W shape: {W.shape}\")\n",
    "\n",
    "    # Now we calculate S_t for each simulation path\n",
    "    S_t = s_0 * np.exp((mu - 0.5 * sigma**2) * time_steps_2d + sigma * W)\n",
    "\n",
    "    # Insert the initial price at time t=0 for each simulation\n",
    "    S_t = np.insert(S_t, 0, s_0, axis=1)\n",
    "\n",
    "    return S_t"
   ]
  },
  {
   "cell_type": "code",
   "execution_count": 41,
   "id": "aaa42a86-cd64-497c-a8a9-e3c74b804888",
   "metadata": {},
   "outputs": [],
   "source": [
    "S_0 = 65\n",
    "K = 78\n",
    "BARRIER = 65\n",
    "r = 0.06\n",
    "sigma = 0.2\n",
    "T =1\n",
    "N = 252\n",
    "dt = T / N\n",
    "N_SIMS = 10 ** 5\n",
    "OPTION_TYPE = \"call\" \n",
    "discount_factor = np.exp(-r * T)"
   ]
  },
  {
   "cell_type": "code",
   "execution_count": 43,
   "id": "2a74831c-da39-4201-8c39-b88c89a04f73",
   "metadata": {},
   "outputs": [
    {
     "name": "stdout",
     "output_type": "stream",
     "text": [
      "mu: 0.06, type: <class 'float'>\n",
      "sigma: 0.2, type: <class 'float'>\n",
      "time_steps_2d shape: (100000, 252)\n",
      "W shape: (100000, 252)\n"
     ]
    }
   ],
   "source": [
    "gbm_sims = simulate_gbm(s_0=S_0, mu=r, sigma=sigma,\n",
    "                        n_sims=N_SIMS, T=T, N=N)"
   ]
  },
  {
   "cell_type": "code",
   "execution_count": 45,
   "id": "1a72cb11-5abc-42ab-809e-4193fca884cf",
   "metadata": {},
   "outputs": [],
   "source": [
    "\n",
    "max_value_per_path = np.max(gbm_sims, axis=1)"
   ]
  },
  {
   "cell_type": "code",
   "execution_count": 47,
   "id": "10d301f5-d438-4541-92d8-a94926c9e42f",
   "metadata": {},
   "outputs": [],
   "source": [
    "payoff = np.where(max_value_per_path > BARRIER,\n",
    "                  np.maximum(0, gbm_sims[:, -1] - K),\n",
    "0)"
   ]
  },
  {
   "cell_type": "code",
   "execution_count": 49,
   "id": "73a71f46-7711-4092-a6d7-64356b23200e",
   "metadata": {},
   "outputs": [
    {
     "data": {
      "text/plain": [
       "2.288155718827228"
      ]
     },
     "execution_count": 49,
     "metadata": {},
     "output_type": "execute_result"
    }
   ],
   "source": [
    "premium = discount_factor * np.mean(payoff)\n",
    "premium"
   ]
  }
 ],
 "metadata": {
  "kernelspec": {
   "display_name": "Python 3 (ipykernel)",
   "language": "python",
   "name": "python3"
  },
  "language_info": {
   "codemirror_mode": {
    "name": "ipython",
    "version": 3
   },
   "file_extension": ".py",
   "mimetype": "text/x-python",
   "name": "python",
   "nbconvert_exporter": "python",
   "pygments_lexer": "ipython3",
   "version": "3.12.2"
  }
 },
 "nbformat": 4,
 "nbformat_minor": 5
}
